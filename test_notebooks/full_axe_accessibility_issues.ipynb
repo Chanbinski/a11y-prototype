{
 "cells": [
  {
   "cell_type": "markdown",
   "id": "f81d3416",
   "metadata": {},
   "source": [
    "# Accessibility Issues Demonstration Notebook\n",
    "\n",
    "This notebook demonstrates **minimal** examples that intentionally violate each of the [axe-core WCAG 2.1 Level A and AA rules](https://github.com/dequelabs/axe-core/blob/develop/doc/rule-descriptions.md#wcag-21-level-a--aa-rules).  \n",
    "Run each cell below (or inspect the HTML) to see code that triggers the corresponding accessibility issue.  \n",
    "**Note:** These code snippets are *not* recommended for production; they are purely for testing accessibility tools like axe."
   ]
  },
  {
   "cell_type": "markdown",
   "id": "99582e0a",
   "metadata": {},
   "source": [
    "## area-alt"
   ]
  },
  {
   "cell_type": "code",
   "execution_count": 1,
   "id": "bd05c82c",
   "metadata": {},
   "outputs": [
    {
     "data": {
      "text/html": [
       "<img src='some-image.png' usemap='#map'><map name='map'><area shape='rect' coords='34,44,270,350' href='test.html'></map>"
      ],
      "text/plain": [
       "<IPython.core.display.HTML object>"
      ]
     },
     "metadata": {},
     "output_type": "display_data"
    }
   ],
   "source": [
    "<div><img src='some-image.png' usemap='#map'> <map name='map'> <area shape='rect' coords='34,44,270,350' alt='Description of the link content for screen reader users' href='test.html'> </map></div>"
   ]
  },
  {
   "cell_type": "markdown",
   "id": "722ddf0c",
   "metadata": {},
   "source": [
    "## aria-hidden-body"
   ]
  },
  {
   "cell_type": "code",
   "execution_count": 9,
   "id": "bc49750f",
   "metadata": {},
   "outputs": [
    {
     "data": {
      "text/html": [
       "<html><body aria-hidden='true'><p>This content is hidden from assistive tech but is the main body.</p></body></html>"
      ],
      "text/plain": [
       "<IPython.core.display.HTML object>"
      ]
     },
     "metadata": {},
     "output_type": "display_data"
    }
   ],
   "source": [
    "from IPython.display import display, HTML\n",
    "display(HTML('''<html><body aria-hidden='true'><p>This content is hidden from assistive tech but is the main body.</p></body></html>'''))"
   ]
  },
  {
   "cell_type": "markdown",
   "id": "6999862e",
   "metadata": {},
   "source": [
    "## aria-required-attr"
   ]
  },
  {
   "cell_type": "code",
   "execution_count": 7,
   "id": "015f5287",
   "metadata": {},
   "outputs": [
    {
     "data": {
      "text/html": [
       "<div role='checkbox'>I am a checkbox but missing aria-checked</div>"
      ],
      "text/plain": [
       "<IPython.core.display.HTML object>"
      ]
     },
     "metadata": {},
     "output_type": "display_data"
    }
   ],
   "source": [
    "from IPython.display import display, HTML\n",
    "display(HTML('''<div role='checkbox'>I am a checkbox but missing aria-checked</div>'''))"
   ]
  },
  {
   "cell_type": "markdown",
   "id": "a73cddc8",
   "metadata": {},
   "source": [
    "## aria-required-children"
   ]
  },
  {
   "cell_type": "code",
   "execution_count": 8,
   "id": "274e3b9c",
   "metadata": {},
   "outputs": [
    {
     "data": {
      "text/html": [
       "<ul role='list'></ul>"
      ],
      "text/plain": [
       "<IPython.core.display.HTML object>"
      ]
     },
     "metadata": {},
     "output_type": "display_data"
    }
   ],
   "source": [
    "from IPython.display import display, HTML\n",
    "display(HTML('''<ul role='list'></ul>'''))"
   ]
  },
  {
   "cell_type": "markdown",
   "id": "79049fbd",
   "metadata": {},
   "source": [
    "## aria-required-parent"
   ]
  },
  {
   "cell_type": "code",
   "execution_count": null,
   "id": "6b3f3155",
   "metadata": {},
   "outputs": [],
   "source": [
    "from IPython.display import display, HTML\n",
    "display(HTML('''<span role='listitem'>I have no parent with role='list'</span>'''))"
   ]
  },
  {
   "cell_type": "markdown",
   "id": "0c6c23c4",
   "metadata": {},
   "source": [
    "## button-name"
   ]
  },
  {
   "cell_type": "code",
   "execution_count": null,
   "id": "2f6578c3",
   "metadata": {},
   "outputs": [],
   "source": [
    "from IPython.display import display, HTML\n",
    "display(HTML('''<button></button>'''))"
   ]
  },
  {
   "cell_type": "markdown",
   "id": "78ca90da",
   "metadata": {},
   "source": [
    "## bypass"
   ]
  },
  {
   "cell_type": "code",
   "execution_count": null,
   "id": "00a0df30",
   "metadata": {},
   "outputs": [],
   "source": [
    "from IPython.display import display, HTML\n",
    "display(HTML('''<nav><ul><li>Navigation Item 1</li><li>Navigation Item 2</li><li>Navigation Item 3</li></ul></nav><main><p>No skip link provided.</p></main>'''))"
   ]
  },
  {
   "cell_type": "markdown",
   "id": "7aa33c22",
   "metadata": {},
   "source": [
    "## color-contrast"
   ]
  },
  {
   "cell_type": "code",
   "execution_count": null,
   "id": "4347479d",
   "metadata": {},
   "outputs": [],
   "source": [
    "from IPython.display import display, HTML\n",
    "display(HTML('''<div style='color: #ccc; background-color: #fff;'>Low contrast text</div>'''))"
   ]
  },
  {
   "cell_type": "markdown",
   "id": "1343c8ba",
   "metadata": {},
   "source": [
    "## definition-list"
   ]
  },
  {
   "cell_type": "code",
   "execution_count": null,
   "id": "6ad00e76",
   "metadata": {},
   "outputs": [],
   "source": [
    "from IPython.display import display, HTML\n",
    "display(HTML('''<dl><dt>Term</dt></dl>'''))"
   ]
  },
  {
   "cell_type": "markdown",
   "id": "43a18fb8",
   "metadata": {},
   "source": [
    "## dlitem"
   ]
  },
  {
   "cell_type": "code",
   "execution_count": null,
   "id": "bcdbcb1e",
   "metadata": {},
   "outputs": [],
   "source": [
    "from IPython.display import display, HTML\n",
    "display(HTML('''<dl><p>Paragraph inside definition list</p></dl>'''))"
   ]
  },
  {
   "cell_type": "markdown",
   "id": "06853ac2",
   "metadata": {},
   "source": [
    "## document-title"
   ]
  },
  {
   "cell_type": "code",
   "execution_count": null,
   "id": "c810b0e6",
   "metadata": {},
   "outputs": [],
   "source": [
    "from IPython.display import display, HTML\n",
    "display(HTML('''<html><head></head><body><p>No document title</p></body></html>'''))"
   ]
  },
  {
   "cell_type": "markdown",
   "id": "9e2b9e68",
   "metadata": {},
   "source": [
    "## duplicate-id-active"
   ]
  },
  {
   "cell_type": "code",
   "execution_count": null,
   "id": "03ed3e81",
   "metadata": {},
   "outputs": [],
   "source": [
    "from IPython.display import display, HTML\n",
    "display(HTML('''<button id='duplicate'>Click me</button><button id='duplicate'>Click me too</button>'''))"
   ]
  },
  {
   "cell_type": "markdown",
   "id": "b075c315",
   "metadata": {},
   "source": [
    "## duplicate-id-aria"
   ]
  },
  {
   "cell_type": "code",
   "execution_count": null,
   "id": "f4f7a1e6",
   "metadata": {},
   "outputs": [],
   "source": [
    "from IPython.display import display, HTML\n",
    "display(HTML('''<div id='descId'>Description one</div><div id='descId'>Description two</div><button aria-describedby='descId'>Button referencing duplicates</button>'''))"
   ]
  },
  {
   "cell_type": "markdown",
   "id": "fe536c09",
   "metadata": {},
   "source": [
    "## form-field-multiple-labels"
   ]
  },
  {
   "cell_type": "code",
   "execution_count": null,
   "id": "5d5d5cbc",
   "metadata": {},
   "outputs": [],
   "source": [
    "from IPython.display import display, HTML\n",
    "display(HTML('''<form><label for='field'>Label 1</label><label for='field'>Label 2</label><input id='field' type='text'></form>'''))"
   ]
  },
  {
   "cell_type": "markdown",
   "id": "3b992616",
   "metadata": {},
   "source": [
    "## frame-title"
   ]
  },
  {
   "cell_type": "code",
   "execution_count": null,
   "id": "171076df",
   "metadata": {},
   "outputs": [],
   "source": [
    "from IPython.display import display, HTML\n",
    "display(HTML('''<iframe src='test.html'></iframe>'''))"
   ]
  },
  {
   "cell_type": "markdown",
   "id": "449cc972",
   "metadata": {},
   "source": [
    "## html-has-lang"
   ]
  },
  {
   "cell_type": "code",
   "execution_count": null,
   "id": "a82729db",
   "metadata": {},
   "outputs": [],
   "source": [
    "from IPython.display import display, HTML\n",
    "display(HTML('''<html><body><p>No lang attribute</p></body></html>'''))"
   ]
  },
  {
   "cell_type": "markdown",
   "id": "43166b7b",
   "metadata": {},
   "source": [
    "## html-lang-valid"
   ]
  },
  {
   "cell_type": "code",
   "execution_count": null,
   "id": "ba280e63",
   "metadata": {},
   "outputs": [],
   "source": [
    "from IPython.display import display, HTML\n",
    "display(HTML('''<html lang='not-a-valid-lang'><body><p>Invalid lang</p></body></html>'''))"
   ]
  },
  {
   "cell_type": "markdown",
   "id": "a2e96d41",
   "metadata": {},
   "source": [
    "## image-alt"
   ]
  },
  {
   "cell_type": "code",
   "execution_count": null,
   "id": "a8c3262d",
   "metadata": {},
   "outputs": [],
   "source": [
    "from IPython.display import display, HTML\n",
    "display(HTML('''<img src='image.png'>'''))"
   ]
  },
  {
   "cell_type": "markdown",
   "id": "bacf1364",
   "metadata": {},
   "source": [
    "## input-button-name"
   ]
  },
  {
   "cell_type": "code",
   "execution_count": null,
   "id": "bc94dd64",
   "metadata": {},
   "outputs": [],
   "source": [
    "from IPython.display import display, HTML\n",
    "display(HTML('''<input type='button'>'''))"
   ]
  },
  {
   "cell_type": "markdown",
   "id": "cfde53fb",
   "metadata": {},
   "source": [
    "## label"
   ]
  },
  {
   "cell_type": "code",
   "execution_count": null,
   "id": "738bbaaf",
   "metadata": {},
   "outputs": [],
   "source": [
    "from IPython.display import display, HTML\n",
    "display(HTML('''<input type='text' id='unlabeled-field'>'''))"
   ]
  },
  {
   "cell_type": "markdown",
   "id": "4274f26d",
   "metadata": {},
   "source": [
    "## link-name"
   ]
  },
  {
   "cell_type": "code",
   "execution_count": null,
   "id": "41860708",
   "metadata": {},
   "outputs": [],
   "source": [
    "from IPython.display import display, HTML\n",
    "display(HTML('''<a href='#'></a>'''))"
   ]
  },
  {
   "cell_type": "markdown",
   "id": "cd3fc03a",
   "metadata": {},
   "source": [
    "## list"
   ]
  },
  {
   "cell_type": "code",
   "execution_count": null,
   "id": "3dcd4a01",
   "metadata": {},
   "outputs": [],
   "source": [
    "from IPython.display import display, HTML\n",
    "display(HTML('''<ul><div>Invalid list child</div></ul>'''))"
   ]
  },
  {
   "cell_type": "markdown",
   "id": "c9515853",
   "metadata": {},
   "source": [
    "## listitem"
   ]
  },
  {
   "cell_type": "code",
   "execution_count": null,
   "id": "761691e8",
   "metadata": {},
   "outputs": [],
   "source": [
    "from IPython.display import display, HTML\n",
    "display(HTML('''<li>Orphaned list item</li>'''))"
   ]
  },
  {
   "cell_type": "markdown",
   "id": "c12bb88d",
   "metadata": {},
   "source": [
    "## marquee"
   ]
  },
  {
   "cell_type": "code",
   "execution_count": null,
   "id": "fbb3ce26",
   "metadata": {},
   "outputs": [],
   "source": [
    "from IPython.display import display, HTML\n",
    "display(HTML('''<marquee>Scrolling text</marquee>'''))"
   ]
  },
  {
   "cell_type": "markdown",
   "id": "474743e0",
   "metadata": {},
   "source": [
    "## meta-refresh"
   ]
  },
  {
   "cell_type": "code",
   "execution_count": null,
   "id": "04d60d21",
   "metadata": {},
   "outputs": [],
   "source": [
    "from IPython.display import display, HTML\n",
    "display(HTML('''<html><head><meta http-equiv='refresh' content='0; URL=about:blank'></head><body><p>Immediate refresh</p></body></html>'''))"
   ]
  },
  {
   "cell_type": "markdown",
   "id": "1080a579",
   "metadata": {},
   "source": [
    "## object-alt"
   ]
  },
  {
   "cell_type": "code",
   "execution_count": null,
   "id": "fd697e86",
   "metadata": {},
   "outputs": [],
   "source": [
    "from IPython.display import display, HTML\n",
    "display(HTML('''<object data='example.swf' type='application/x-shockwave-flash'></object>'''))"
   ]
  },
  {
   "cell_type": "markdown",
   "id": "c6d8565e",
   "metadata": {},
   "source": [
    "## role-img-alt"
   ]
  },
  {
   "cell_type": "code",
   "execution_count": null,
   "id": "bba934c8",
   "metadata": {},
   "outputs": [],
   "source": [
    "from IPython.display import display, HTML\n",
    "display(HTML('''<span role='img'></span>'''))"
   ]
  },
  {
   "cell_type": "markdown",
   "id": "3c149595",
   "metadata": {},
   "source": [
    "## scope-attr-valid"
   ]
  },
  {
   "cell_type": "code",
   "execution_count": null,
   "id": "93671823",
   "metadata": {},
   "outputs": [],
   "source": [
    "from IPython.display import display, HTML\n",
    "display(HTML('''<table><tr><th scope='invalidscope'>Header</th></tr></table>'''))"
   ]
  },
  {
   "cell_type": "markdown",
   "id": "018e9c23",
   "metadata": {},
   "source": [
    "## server-side-image-map"
   ]
  },
  {
   "cell_type": "code",
   "execution_count": null,
   "id": "f8499026",
   "metadata": {},
   "outputs": [],
   "source": [
    "from IPython.display import display, HTML\n",
    "display(HTML('''<img src='map.png' usemap='#MapName' ismap>'''))"
   ]
  },
  {
   "cell_type": "markdown",
   "id": "c54b0892",
   "metadata": {},
   "source": [
    "## tabindex"
   ]
  },
  {
   "cell_type": "code",
   "execution_count": null,
   "id": "7ce8dc91",
   "metadata": {},
   "outputs": [],
   "source": [
    "from IPython.display import display, HTML\n",
    "display(HTML('''<div tabindex='10'>High tabindex</div>'''))"
   ]
  },
  {
   "cell_type": "markdown",
   "id": "568e450c",
   "metadata": {},
   "source": [
    "## td-has-header"
   ]
  },
  {
   "cell_type": "code",
   "execution_count": null,
   "id": "e5c95b13",
   "metadata": {},
   "outputs": [],
   "source": [
    "from IPython.display import display, HTML\n",
    "display(HTML('''<table><thead><tr><th>Header</th></tr></thead><tbody><tr><td>No association</td></tr></tbody></table>'''))"
   ]
  },
  {
   "cell_type": "markdown",
   "id": "9dcbcdff",
   "metadata": {},
   "source": [
    "## td-headers-attr"
   ]
  },
  {
   "cell_type": "code",
   "execution_count": null,
   "id": "69e6aaad",
   "metadata": {},
   "outputs": [],
   "source": [
    "from IPython.display import display, HTML\n",
    "display(HTML('''<table><tr><th id='h1'>Header</th></tr><tr><td headers='h2'>Invalid reference</td></tr></table>'''))"
   ]
  },
  {
   "cell_type": "markdown",
   "id": "acf5b012",
   "metadata": {},
   "source": [
    "## th-has-data-cells"
   ]
  },
  {
   "cell_type": "code",
   "execution_count": null,
   "id": "2bf0d66b",
   "metadata": {},
   "outputs": [],
   "source": [
    "from IPython.display import display, HTML\n",
    "display(HTML('''<table><tr><th>Orphan Header</th></tr></table>'''))"
   ]
  },
  {
   "cell_type": "markdown",
   "id": "64605371",
   "metadata": {},
   "source": [
    "## valid-lang"
   ]
  },
  {
   "cell_type": "code",
   "execution_count": null,
   "id": "7bb266ae",
   "metadata": {},
   "outputs": [],
   "source": [
    "from IPython.display import display, HTML\n",
    "display(HTML('''<html lang='x-InvalidLang'><body><p>Invalid language code</p></body></html>'''))"
   ]
  },
  {
   "cell_type": "markdown",
   "id": "8dd0ae01",
   "metadata": {},
   "source": [
    "## video-caption"
   ]
  },
  {
   "cell_type": "code",
   "execution_count": null,
   "id": "614c2601",
   "metadata": {},
   "outputs": [],
   "source": [
    "from IPython.display import display, HTML\n",
    "display(HTML('''<video src='sample.mp4' controls></video>'''))"
   ]
  },
  {
   "cell_type": "markdown",
   "id": "3da243ae",
   "metadata": {},
   "source": [
    "## video-description"
   ]
  },
  {
   "cell_type": "code",
   "execution_count": null,
   "id": "5e0bf047",
   "metadata": {},
   "outputs": [],
   "source": [
    "from IPython.display import display, HTML\n",
    "display(HTML('''<video src='sample.mp4' controls><track kind='captions' src='captions.vtt' srclang='en' label='English Captions'></video>'''))"
   ]
  }
 ],
 "metadata": {
  "kernelspec": {
   "display_name": "Python 3 (ipykernel)",
   "language": "python",
   "name": "python3"
  },
  "language_info": {
   "codemirror_mode": {
    "name": "ipython",
    "version": 3
   },
   "file_extension": ".py",
   "mimetype": "text/x-python",
   "name": "python",
   "nbconvert_exporter": "python",
   "pygments_lexer": "ipython3",
   "version": "3.12.6"
  }
 },
 "nbformat": 4,
 "nbformat_minor": 5
}
