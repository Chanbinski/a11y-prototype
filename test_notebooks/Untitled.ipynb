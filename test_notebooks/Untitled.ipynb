{
 "cells": [
  {
   "cell_type": "code",
   "execution_count": 1,
   "id": "403e04dc-387a-4981-bbb4-c4eb4687e3eb",
   "metadata": {},
   "outputs": [
    {
     "data": {
      "text/html": [
       "<div role='checkbox'>I am a checkbox but missing aria-checked</div>"
      ],
      "text/plain": [
       "<IPython.core.display.HTML object>"
      ]
     },
     "metadata": {},
     "output_type": "display_data"
    }
   ],
   "source": [
    "<div role='checkbox' aria-checked='false'>I am a checkbox</div>"
   ]
  },
  {
   "cell_type": "markdown",
   "id": "30d7dbcb-0885-47f5-b898-8c6b6c0fd1f5",
   "metadata": {},
   "source": [
    "<div role='checkbox'>I am a checkbox but missing aria-checked</div>"
   ]
  }
 ],
 "metadata": {
  "kernelspec": {
   "display_name": "Python 3 (ipykernel)",
   "language": "python",
   "name": "python3"
  },
  "language_info": {
   "codemirror_mode": {
    "name": "ipython",
    "version": 3
   },
   "file_extension": ".py",
   "mimetype": "text/x-python",
   "name": "python",
   "nbconvert_exporter": "python",
   "pygments_lexer": "ipython3",
   "version": "3.12.6"
  }
 },
 "nbformat": 4,
 "nbformat_minor": 5
}
