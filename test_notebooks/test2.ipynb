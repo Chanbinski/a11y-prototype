{
 "cells": [
  {
   "cell_type": "markdown",
   "id": "fa48498b",
   "metadata": {},
   "source": [
    "# axe Accessibility Issues Notebook (Markdown Only)\n",
    "\n",
    "This notebook contains **only Markdown cells**, each demonstrating a minimal HTML snippet that violates a particular [axe-core WCAG 2.1 Level A & AA rule](https://github.com/dequelabs/axe-core/blob/develop/doc/rule-descriptions.md#wcag-21-level-a--aa-rules). Each snippet is intentionally inaccessible.\n",
    "\n",
    "> **Note**:\n",
    "> - **Do not** use these snippets in production.\n",
    "> - They exist purely to trigger accessibility rule violations for testing.\n",
    "> - Each snippet is shown in a fenced code block in **Markdown**, not as executed code.\n"
   ]
  },
  {
   "cell_type": "markdown",
   "id": "f2f878b6",
   "metadata": {},
   "source": [
    "<img src=\"some-image.png\" usemap=\"#map\">\n",
    "<map name=\"map\">\n",
    "  <area alt=\"Description for test.html link in image map\" shape=\"rect\" coords=\"34,44,270,350\" href=\"test.html\">\n",
    "</map>"
   ]
  },
  {
   "cell_type": "markdown",
   "id": "e4bd5321",
   "metadata": {},
   "source": [
    "<div><img src='some-image.png' usemap='#map'> <map name='map'> <area shape='rect' coords='34,44,270,350' alt='Description of the link content for screen reader users and image description' href='test.html'> </map></div>"
   ]
  },
  {
   "cell_type": "markdown",
   "id": "45e33375",
   "metadata": {},
   "source": [
    "## 3. aria-required-attr\n",
    "\n",
    "**Issue**: Elements with certain roles (like `checkbox`) require specific ARIA attributes (e.g. `aria-checked`).\n",
    "\n",
    "<div role=\"checkbox\">\n",
    "  I am a checkbox but missing aria-checked\n",
    "</div>"
   ]
  },
  {
   "cell_type": "markdown",
   "id": "f87bc466-9245-443d-89c8-c202b1e5449b",
   "metadata": {},
   "source": [
    "<div role=\"checkbox\">\n",
    "  I am a checkbox but missing aria-checked\n",
    "</div>"
   ]
  },
  {
   "cell_type": "markdown",
   "id": "7396f046",
   "metadata": {},
   "source": [
    "## 4. aria-required-children\n",
    "\n",
    "**Issue**: Some roles (e.g. `list`) require specific child roles (e.g. `listitem`).\n",
    "\n",
    "<ul role=\"list\">\n",
    "  <!-- Missing <li> or role=\"listitem\" children -->\n",
    "</ul>\n"
   ]
  },
  {
   "cell_type": "markdown",
   "id": "37fb9a8b",
   "metadata": {},
   "source": [
    "<div role='checkbox' aria-checked='false'>I am a checkbox</div>"
   ]
  },
  {
   "cell_type": "markdown",
   "id": "321f2884",
   "metadata": {},
   "source": [
    "## 6. button-name\n",
    "\n",
    "**Issue**: A `<button>` must have an accessible name (text, `aria-label`, or similar).\n",
    "\n",
    "```html\n",
    "<button></button>\n",
    "```"
   ]
  },
  {
   "cell_type": "markdown",
   "id": "8b90581f",
   "metadata": {},
   "source": [
    "## 7. bypass\n",
    "\n",
    "**Issue**: Page has no mechanism (like a skip link or landmarks) to bypass repetitive blocks.\n",
    "\n",
    "```html\n",
    "<nav>\n",
    "  <ul>\n",
    "    <li>Navigation Item 1</li>\n",
    "    <li>Navigation Item 2</li>\n",
    "    <li>Navigation Item 3</li>\n",
    "  </ul>\n",
    "</nav>\n",
    "<main>\n",
    "  <p>There is no skip link or heading structure to bypass the nav.</p>\n",
    "</main>\n",
    "```"
   ]
  },
  {
   "cell_type": "markdown",
   "id": "dcd5fd58",
   "metadata": {},
   "source": [
    "## 8. color-contrast\n",
    "\n",
    "**Issue**: Text with insufficient color contrast (e.g. #ccc on white).\n",
    "\n",
    "```html\n",
    "<div style=\"color: #ccc; background-color: #fff; font-size:14px\">\n",
    "  This text has low contrast.\n",
    "</div>\n",
    "```"
   ]
  },
  {
   "cell_type": "markdown",
   "id": "fd4c51ea",
   "metadata": {},
   "source": [
    "## 9. definition-list\n",
    "\n",
    "**Issue**: A `<dl>` must have properly paired `<dt>` and `<dd>` elements.\n",
    "\n",
    "```html\n",
    "<dl>\n",
    "  <dt>Term One</dt>\n",
    "  <dt>Term Two</dt>\n",
    "  <!-- Missing <dd> -->\n",
    "</dl>\n",
    "```"
   ]
  },
  {
   "cell_type": "markdown",
   "id": "c0baafcb",
   "metadata": {},
   "source": [
    "## 10. dlitem\n",
    "\n",
    "**Issue**: A `<dl>` must not contain non-dt/dd elements directly.\n",
    "\n",
    "```html\n",
    "<dl>\n",
    "  <p>Paragraph inside definition list</p>\n",
    "</dl>\n",
    "```"
   ]
  },
  {
   "cell_type": "markdown",
   "id": "19efe2c6",
   "metadata": {},
   "source": [
    "## 11. document-title\n",
    "\n",
    "**Issue**: An HTML document must have a `<title>` in the `<head>`.\n",
    "\n",
    "```html\n",
    "<!DOCTYPE html>\n",
    "<html>\n",
    "<head>\n",
    "  <!-- Missing <title> -->\n",
    "</head>\n",
    "<body>\n",
    "  <p>No document title here.</p>\n",
    "</body>\n",
    "</html>\n",
    "```"
   ]
  },
  {
   "cell_type": "markdown",
   "id": "adf139a8",
   "metadata": {},
   "source": [
    "## 12. duplicate-id-active\n",
    "\n",
    "**Issue**: Two active/focusable elements share the same `id`.\n",
    "\n",
    "```html\n",
    "<button id=\"duplicate\">Click me</button>\n",
    "<button id=\"duplicate\">Click me too</button>\n",
    "```"
   ]
  },
  {
   "cell_type": "markdown",
   "id": "8d5192f4",
   "metadata": {},
   "source": [
    "## 13. duplicate-id-aria\n",
    "\n",
    "**Issue**: Multiple elements share the same `id`, referenced by an ARIA attribute.\n",
    "\n",
    "```html\n",
    "<div id=\"descId\">Description one</div>\n",
    "<div id=\"descId\">Description two</div>\n",
    "<button aria-describedby=\"descId\">Button referencing duplicates</button>\n",
    "```"
   ]
  },
  {
   "cell_type": "markdown",
   "id": "a1ae4b06",
   "metadata": {},
   "source": [
    "## 14. form-field-multiple-labels\n",
    "\n",
    "**Issue**: A single form input should not have multiple `<label>` elements.\n",
    "\n",
    "```html\n",
    "<form>\n",
    "  <label for=\"field\">First Label</label>\n",
    "  <label for=\"field\">Second Label</label>\n",
    "  <input id=\"field\" type=\"text\">\n",
    "</form>\n",
    "```"
   ]
  },
  {
   "cell_type": "markdown",
   "id": "bd291a4c",
   "metadata": {},
   "source": [
    "## 15. frame-title\n",
    "\n",
    "**Issue**: An `<iframe>` must have a `title` describing its content.\n",
    "\n",
    "```html\n",
    "<iframe src=\"test.html\"></iframe>\n",
    "```"
   ]
  },
  {
   "cell_type": "markdown",
   "id": "79855808",
   "metadata": {},
   "source": [
    "## 16. html-has-lang\n",
    "\n",
    "**Issue**: `<html>` must have a `lang` attribute.\n",
    "\n",
    "```html\n",
    "<!DOCTYPE html>\n",
    "<html>\n",
    "<head><title>Missing lang</title></head>\n",
    "<body>\n",
    "  <p>Language not declared.</p>\n",
    "</body>\n",
    "</html>\n",
    "```"
   ]
  },
  {
   "cell_type": "markdown",
   "id": "52ba87db",
   "metadata": {},
   "source": [
    "## 17. html-lang-valid\n",
    "\n",
    "**Issue**: The `lang` attribute must be a valid language code.\n",
    "\n",
    "```html\n",
    "<!DOCTYPE html>\n",
    "<html lang=\"not-a-valid-lang\">\n",
    "<head><title>Invalid Lang</title></head>\n",
    "<body>\n",
    "  <p>Invalid lang attribute.</p>\n",
    "</body>\n",
    "</html>\n",
    "```"
   ]
  },
  {
   "cell_type": "markdown",
   "id": "3c41492f",
   "metadata": {},
   "source": [
    "## 18. image-alt\n",
    "\n",
    "**Issue**: An `<img>` must have an `alt` attribute.\n",
    "\n",
    "```html\n",
    "<img src=\"image.png\">\n",
    "```"
   ]
  },
  {
   "cell_type": "markdown",
   "id": "39e0a084",
   "metadata": {},
   "source": [
    "## 19. input-button-name\n",
    "\n",
    "**Issue**: An `<input type=\"button\">` must have an accessible name (via `value`, `aria-label`, etc.).\n",
    "\n",
    "```html\n",
    "<input type=\"button\">\n",
    "```"
   ]
  },
  {
   "cell_type": "markdown",
   "id": "6d9a7bb8",
   "metadata": {},
   "source": [
    "## 20. label\n",
    "\n",
    "**Issue**: Every form control must have a label or alternative name.\n",
    "\n",
    "```html\n",
    "<input type=\"text\" id=\"unlabeled-field\">\n",
    "```"
   ]
  },
  {
   "cell_type": "markdown",
   "id": "6af1d760",
   "metadata": {},
   "source": [
    "## 21. link-name\n",
    "\n",
    "**Issue**: A link (`<a>`) must have an accessible name (visible text or `aria-label`).\n",
    "\n",
    "```html\n",
    "<a href=\"#\"></a>\n",
    "```"
   ]
  },
  {
   "cell_type": "markdown",
   "id": "d3ad38a5",
   "metadata": {},
   "source": [
    "## 22. list\n",
    "\n",
    "**Issue**: A `<ul>` or `<ol>` must only have `<li>` elements as direct children.\n",
    "\n",
    "```html\n",
    "<ul>\n",
    "  <div>List item?</div>\n",
    "</ul>\n",
    "```"
   ]
  },
  {
   "cell_type": "markdown",
   "id": "5e17bae2",
   "metadata": {},
   "source": [
    "## 23. listitem\n",
    "\n",
    "**Issue**: A `<li>` must be contained by a `<ul>` or `<ol>`.\n",
    "\n",
    "```html\n",
    "<li>Orphaned list item</li>\n",
    "```"
   ]
  },
  {
   "cell_type": "markdown",
   "id": "4132b88b",
   "metadata": {},
   "source": [
    "## 24. marquee\n",
    "\n",
    "**Issue**: `<marquee>` is deprecated and fails multiple guidelines.\n",
    "\n",
    "```html\n",
    "<marquee>Scrolling text</marquee>\n",
    "```"
   ]
  },
  {
   "cell_type": "markdown",
   "id": "18ec6281",
   "metadata": {},
   "source": [
    "## 25. meta-refresh\n",
    "\n",
    "**Issue**: `<meta http-equiv=\"refresh\">` triggers an automatic page refresh or redirect.\n",
    "\n",
    "```html\n",
    "<!DOCTYPE html>\n",
    "<html>\n",
    "<head>\n",
    "  <meta http-equiv=\"refresh\" content=\"0; URL='http://example.com/'\">\n",
    "</head>\n",
    "<body>\n",
    "  <p>This page refreshes immediately.</p>\n",
    "</body>\n",
    "</html>\n",
    "```"
   ]
  },
  {
   "cell_type": "markdown",
   "id": "41888e71",
   "metadata": {},
   "source": [
    "## 26. object-alt\n",
    "\n",
    "**Issue**: An `<object>` must have a text alternative if it contains non-text content.\n",
    "\n",
    "```html\n",
    "<object data=\"example.swf\" type=\"application/x-shockwave-flash\">\n",
    "  <!-- No text alternative or fallback -->\n",
    "</object>\n",
    "```"
   ]
  },
  {
   "cell_type": "markdown",
   "id": "0868e285",
   "metadata": {},
   "source": [
    "## 27. role-img-alt\n",
    "\n",
    "**Issue**: An element with `role=\"img\"` must have a text alternative via `aria-label` or `aria-labelledby`.\n",
    "\n",
    "```html\n",
    "<span role=\"img\"></span>\n",
    "```"
   ]
  },
  {
   "cell_type": "markdown",
   "id": "0654453a",
   "metadata": {},
   "source": [
    "## 28. scope-attr-valid\n",
    "\n",
    "**Issue**: The `scope` attribute on `<th>` must be one of `row`, `col`, `rowgroup`, or `colgroup`.\n",
    "\n",
    "```html\n",
    "<table>\n",
    "  <tr>\n",
    "    <th scope=\"invalidscope\">Header</th>\n",
    "  </tr>\n",
    "  <tr>\n",
    "    <td>Data</td>\n",
    "  </tr>\n",
    "</table>\n",
    "```"
   ]
  },
  {
   "cell_type": "markdown",
   "id": "eb0c58f2",
   "metadata": {},
   "source": [
    "## 29. server-side-image-map\n",
    "\n",
    "**Issue**: A server-side image map (`ismap`) is inaccessible.\n",
    "\n",
    "```html\n",
    "<img src=\"map.png\" usemap=\"#MapName\" ismap>\n",
    "```"
   ]
  },
  {
   "cell_type": "markdown",
   "id": "31f61f16",
   "metadata": {},
   "source": [
    "## 30. tabindex\n",
    "\n",
    "**Issue**: Non-interactive elements with a positive `tabindex` can cause confusing keyboard navigation.\n",
    "\n",
    "```html\n",
    "<div tabindex=\"10\">I have a high tabindex</div>\n",
    "```"
   ]
  },
  {
   "cell_type": "markdown",
   "id": "f63ed39e",
   "metadata": {},
   "source": [
    "## 31. td-has-header\n",
    "\n",
    "**Issue**: Table data cells (`<td>`) must be associated with appropriate header cells (`<th>`).\n",
    "\n",
    "```html\n",
    "<table>\n",
    "  <thead>\n",
    "    <tr><th>Header</th></tr>\n",
    "  </thead>\n",
    "  <tbody>\n",
    "    <tr><td>Data without correct association</td></tr>\n",
    "  </tbody>\n",
    "</table>\n",
    "```"
   ]
  },
  {
   "cell_type": "markdown",
   "id": "899c396a",
   "metadata": {},
   "source": [
    "## 32. td-headers-attr\n",
    "\n",
    "**Issue**: `<td>` uses `headers` attribute referencing a non-existent `<th>`.\n",
    "\n",
    "```html\n",
    "<table>\n",
    "  <tr>\n",
    "    <th id=\"h1\">Real Header</th>\n",
    "  </tr>\n",
    "  <tr>\n",
    "    <!-- references a non-existent 'h2' -->\n",
    "    <td headers=\"h2\">Data, but references h2 which doesn't exist</td>\n",
    "  </tr>\n",
    "</table>\n",
    "```"
   ]
  },
  {
   "cell_type": "markdown",
   "id": "b4b30529",
   "metadata": {},
   "source": [
    "## 33. th-has-data-cells\n",
    "\n",
    "**Issue**: A `<th>` must have associated `<td>` data cells.\n",
    "\n",
    "```html\n",
    "<table>\n",
    "  <tr><th>Orphan Header</th></tr>\n",
    "</table>\n",
    "```"
   ]
  },
  {
   "cell_type": "markdown",
   "id": "7eea77ce",
   "metadata": {},
   "source": [
    "## 34. valid-lang\n",
    "\n",
    "**Issue**: The `lang` attribute must be a valid (well-formed) language code.\n",
    "\n",
    "```html\n",
    "<!DOCTYPE html>\n",
    "<html lang=\"x-InvalidLang\">\n",
    "<head><title>Not valid</title></head>\n",
    "<body>\n",
    "  <p>Invalid language code used.</p>\n",
    "</body>\n",
    "</html>\n",
    "```"
   ]
  },
  {
   "cell_type": "markdown",
   "id": "53f35912",
   "metadata": {},
   "source": [
    "## 35. video-caption\n",
    "\n",
    "**Issue**: `<video>` must have captions for its audio content.\n",
    "\n",
    "```html\n",
    "<video src=\"sample.mp4\" controls>\n",
    "  <!-- No <track kind=\"captions\" ...> provided -->\n",
    "</video>\n",
    "```"
   ]
  },
  {
   "cell_type": "markdown",
   "id": "9740fc1d",
   "metadata": {},
   "source": [
    "## 36. video-description\n",
    "\n",
    "**Issue**: `<video>` with visual content must also include an audio description track (`kind=\"descriptions\"`).\n",
    "\n",
    "```html\n",
    "<video src=\"sample.mp4\" controls>\n",
    "  <track kind=\"captions\" src=\"captions.vtt\" srclang=\"en\" label=\"English Captions\" />\n",
    "  <!-- Missing <track kind=\"descriptions\" ...> -->\n",
    "</video>\n",
    "```"
   ]
  }
 ],
 "metadata": {
  "kernelspec": {
   "display_name": "Python 3 (ipykernel)",
   "language": "python",
   "name": "python3"
  },
  "language_info": {
   "codemirror_mode": {
    "name": "ipython",
    "version": 3
   },
   "file_extension": ".py",
   "mimetype": "text/x-python",
   "name": "python",
   "nbconvert_exporter": "python",
   "pygments_lexer": "ipython3",
   "version": "3.12.6"
  },
  "name": "axe_accessibility_issues_markdown_only"
 },
 "nbformat": 4,
 "nbformat_minor": 5
}
